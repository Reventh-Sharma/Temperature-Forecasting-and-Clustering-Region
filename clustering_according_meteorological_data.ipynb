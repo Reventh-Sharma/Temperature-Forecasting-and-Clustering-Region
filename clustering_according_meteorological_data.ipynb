{
 "cells": [
  {
   "cell_type": "code",
   "execution_count": 75,
   "metadata": {
    "colab": {},
    "colab_type": "code",
    "id": "pXGhaGJZkAaU"
   },
   "outputs": [],
   "source": [
    "import pandas as pd\n",
    "import numpy as np\n",
    "import matplotlib.pyplot as plt\n",
    "%matplotlib inline\n",
    "from sklearn.cluster import KMeans\n",
    "from collections import defaultdict"
   ]
  },
  {
   "cell_type": "code",
   "execution_count": null,
   "metadata": {
    "colab": {},
    "colab_type": "code",
    "id": "fAEU6V2EkNvM"
   },
   "outputs": [],
   "source": [
    "data_2013 = pd.read_csv('https://aerialintel.blob.core.windows.net/recruiting/datasets/wheat-2013-supervised.csv', delimiter=',')\n",
    "data_2014 = pd.read_csv('https://aerialintel.blob.core.windows.net/recruiting/datasets/wheat-2014-supervised.csv', delimiter=',')\n",
    "df= pd.concat([data_2013, data_2014],axis=0)"
   ]
  },
  {
   "cell_type": "code",
   "execution_count": null,
   "metadata": {
    "colab": {},
    "colab_type": "code",
    "id": "9xHKvbZIWZhN"
   },
   "outputs": [],
   "source": [
    "dff=df[['CountyName','Latitude', 'Longitude',\n",
    "       'apparentTemperatureMax', 'apparentTemperatureMin', 'cloudCover',\n",
    "       'dewPoint', 'humidity', 'precipIntensity', 'precipIntensityMax',\n",
    "       'precipProbability', 'precipAccumulation', 'precipTypeIsRain',\n",
    "       'precipTypeIsSnow', 'precipTypeIsOther', 'pressure', 'temperatureMax',\n",
    "       'temperatureMin', 'visibility', 'windBearing', 'windSpeed', 'NDVI',\n",
    "       'DayInSeason', 'Yield']][(df['Date']=='6/1/2015 0:00')]"
   ]
  },
  {
   "cell_type": "code",
   "execution_count": null,
   "metadata": {
    "colab": {},
    "colab_type": "code",
    "id": "BkB2Jlfhk0j4"
   },
   "outputs": [],
   "source": [
    "cluster=dff.groupby('CountyName').median()\n",
    "countyNames=list(set(dff.CountyName))\n",
    "countyNames.sort()"
   ]
  },
  {
   "cell_type": "code",
   "execution_count": null,
   "metadata": {
    "colab": {},
    "colab_type": "code",
    "id": "OEuT87AQEeCX"
   },
   "outputs": [],
   "source": [
    "clusterAreas=[]\n",
    "clusterMetData=[]\n",
    "for i in range(len(cluster)):\n",
    "  temp=cluster.iloc[i]\n",
    "  clusterAreas.append(countyNames[i])\n",
    "  clusterMetData.append(temp[['Latitude', 'Longitude',\n",
    "       'apparentTemperatureMax', 'apparentTemperatureMin', 'cloudCover',\n",
    "       'dewPoint', 'humidity', 'precipIntensity', 'precipIntensityMax',\n",
    "       'precipProbability', 'precipAccumulation', 'precipTypeIsRain',\n",
    "       'precipTypeIsSnow', 'precipTypeIsOther', 'pressure', 'temperatureMax',\n",
    "       'temperatureMin', 'visibility', 'windBearing', 'windSpeed', 'NDVI',\n",
    "       'DayInSeason', 'Yield']].tolist())"
   ]
  },
  {
   "cell_type": "code",
   "execution_count": null,
   "metadata": {
    "colab": {
     "base_uri": "https://localhost:8080/",
     "height": 295
    },
    "colab_type": "code",
    "id": "mytotOcnGDBF",
    "outputId": "99e70e5e-e4c6-4d4d-fdbe-76eb2d62ffa7"
   },
   "outputs": [],
   "source": [
    "wcss = []\n",
    "for i in range(1, 30,7):\n",
    "    kmeans = KMeans(n_clusters=i, init='k-means++', max_iter=300, n_init=10, random_state=0)\n",
    "    kmeans.fit(clusterMetData)\n",
    "    wcss.append(kmeans.inertia_)\n",
    "plt.plot(range(1, 30,7), wcss)\n",
    "plt.title('Elbow Method')\n",
    "plt.xlabel('Number of clusters')\n",
    "plt.ylabel('WCSS')\n",
    "plt.show()\n"
   ]
  },
  {
   "cell_type": "code",
   "execution_count": null,
   "metadata": {
    "colab": {},
    "colab_type": "code",
    "id": "B87bWym3c14F"
   },
   "outputs": [],
   "source": [
    "kmeans = KMeans(n_clusters=8, random_state=0).fit(clusterMetData)\n",
    "clusterLIST=list(kmeans.labels_)"
   ]
  },
  {
   "cell_type": "code",
   "execution_count": null,
   "metadata": {
    "colab": {},
    "colab_type": "code",
    "id": "AYxt0tgQES4k"
   },
   "outputs": [],
   "source": [
    "finalClusterDICT=defaultdict(list)\n",
    "for c in range(len(clusterLIST)):\n",
    "  finalClusterDICT[clusterLIST[c]].append(clusterAreas[c])"
   ]
  },
  {
   "cell_type": "code",
   "execution_count": null,
   "metadata": {
    "colab": {
     "base_uri": "https://localhost:8080/",
     "height": 1000
    },
    "colab_type": "code",
    "id": "ncGDHL-9FZFu",
    "outputId": "7e6fd8ec-b004-4f71-8f79-047112351051"
   },
   "outputs": [],
   "source": [
    "finalClusterDICT"
   ]
  }
 ],
 "metadata": {
  "colab": {
   "collapsed_sections": [],
   "name": "FDSAssignment2_clustering.ipynb",
   "provenance": []
  },
  "kernelspec": {
   "display_name": "Python 3",
   "language": "python",
   "name": "python3"
  },
  "language_info": {
   "codemirror_mode": {
    "name": "ipython",
    "version": 3
   },
   "file_extension": ".py",
   "mimetype": "text/x-python",
   "name": "python",
   "nbconvert_exporter": "python",
   "pygments_lexer": "ipython3",
   "version": "3.6.5"
  }
 },
 "nbformat": 4,
 "nbformat_minor": 1
}
